{
 "cells": [
  {
   "cell_type": "code",
   "execution_count": 4,
   "metadata": {},
   "outputs": [],
   "source": [
    "import pandas as pd\n",
    "import matplotlib\n",
    "import scipy.stats"
   ]
  },
  {
   "cell_type": "code",
   "execution_count": 19,
   "metadata": {},
   "outputs": [
    {
     "data": {
      "text/html": [
       "<div>\n",
       "<style scoped>\n",
       "    .dataframe tbody tr th:only-of-type {\n",
       "        vertical-align: middle;\n",
       "    }\n",
       "\n",
       "    .dataframe tbody tr th {\n",
       "        vertical-align: top;\n",
       "    }\n",
       "\n",
       "    .dataframe thead th {\n",
       "        text-align: right;\n",
       "    }\n",
       "</style>\n",
       "<table border=\"1\" class=\"dataframe\">\n",
       "  <thead>\n",
       "    <tr style=\"text-align: right;\">\n",
       "      <th></th>\n",
       "      <th>title</th>\n",
       "      <th>artist</th>\n",
       "      <th>top genre</th>\n",
       "      <th>year</th>\n",
       "      <th>bpm</th>\n",
       "      <th>nrgy</th>\n",
       "      <th>dnce</th>\n",
       "      <th>dB</th>\n",
       "      <th>live</th>\n",
       "      <th>val</th>\n",
       "      <th>dur</th>\n",
       "      <th>acous</th>\n",
       "      <th>spch</th>\n",
       "      <th>pop</th>\n",
       "    </tr>\n",
       "  </thead>\n",
       "  <tbody>\n",
       "    <tr>\n",
       "      <th>0</th>\n",
       "      <td>Hey, Soul Sister</td>\n",
       "      <td>Train</td>\n",
       "      <td>neo mellow</td>\n",
       "      <td>2010</td>\n",
       "      <td>97</td>\n",
       "      <td>89</td>\n",
       "      <td>67</td>\n",
       "      <td>-4</td>\n",
       "      <td>8</td>\n",
       "      <td>80</td>\n",
       "      <td>217</td>\n",
       "      <td>19</td>\n",
       "      <td>4</td>\n",
       "      <td>83</td>\n",
       "    </tr>\n",
       "    <tr>\n",
       "      <th>1</th>\n",
       "      <td>Love The Way You Lie</td>\n",
       "      <td>Eminem</td>\n",
       "      <td>detroit hip hop</td>\n",
       "      <td>2010</td>\n",
       "      <td>87</td>\n",
       "      <td>93</td>\n",
       "      <td>75</td>\n",
       "      <td>-5</td>\n",
       "      <td>52</td>\n",
       "      <td>64</td>\n",
       "      <td>263</td>\n",
       "      <td>24</td>\n",
       "      <td>23</td>\n",
       "      <td>82</td>\n",
       "    </tr>\n",
       "    <tr>\n",
       "      <th>2</th>\n",
       "      <td>TiK ToK</td>\n",
       "      <td>Kesha</td>\n",
       "      <td>dance pop</td>\n",
       "      <td>2010</td>\n",
       "      <td>120</td>\n",
       "      <td>84</td>\n",
       "      <td>76</td>\n",
       "      <td>-3</td>\n",
       "      <td>29</td>\n",
       "      <td>71</td>\n",
       "      <td>200</td>\n",
       "      <td>10</td>\n",
       "      <td>14</td>\n",
       "      <td>80</td>\n",
       "    </tr>\n",
       "    <tr>\n",
       "      <th>3</th>\n",
       "      <td>Bad Romance</td>\n",
       "      <td>Lady Gaga</td>\n",
       "      <td>dance pop</td>\n",
       "      <td>2010</td>\n",
       "      <td>119</td>\n",
       "      <td>92</td>\n",
       "      <td>70</td>\n",
       "      <td>-4</td>\n",
       "      <td>8</td>\n",
       "      <td>71</td>\n",
       "      <td>295</td>\n",
       "      <td>0</td>\n",
       "      <td>4</td>\n",
       "      <td>79</td>\n",
       "    </tr>\n",
       "    <tr>\n",
       "      <th>4</th>\n",
       "      <td>Just the Way You Are</td>\n",
       "      <td>Bruno Mars</td>\n",
       "      <td>pop</td>\n",
       "      <td>2010</td>\n",
       "      <td>109</td>\n",
       "      <td>84</td>\n",
       "      <td>64</td>\n",
       "      <td>-5</td>\n",
       "      <td>9</td>\n",
       "      <td>43</td>\n",
       "      <td>221</td>\n",
       "      <td>2</td>\n",
       "      <td>4</td>\n",
       "      <td>78</td>\n",
       "    </tr>\n",
       "  </tbody>\n",
       "</table>\n",
       "</div>"
      ],
      "text/plain": [
       "                  title      artist        top genre  year  bpm  nrgy  dnce  \\\n",
       "0      Hey, Soul Sister       Train       neo mellow  2010   97    89    67   \n",
       "1  Love The Way You Lie      Eminem  detroit hip hop  2010   87    93    75   \n",
       "2               TiK ToK       Kesha        dance pop  2010  120    84    76   \n",
       "3           Bad Romance   Lady Gaga        dance pop  2010  119    92    70   \n",
       "4  Just the Way You Are  Bruno Mars              pop  2010  109    84    64   \n",
       "\n",
       "   dB  live  val  dur  acous  spch  pop  \n",
       "0  -4     8   80  217     19     4   83  \n",
       "1  -5    52   64  263     24    23   82  \n",
       "2  -3    29   71  200     10    14   80  \n",
       "3  -4     8   71  295      0     4   79  \n",
       "4  -5     9   43  221      2     4   78  "
      ]
     },
     "execution_count": 19,
     "metadata": {},
     "output_type": "execute_result"
    }
   ],
   "source": [
    "musicdf = pd.read_csv(\"musicdata.csv\",encoding = \"ISO-8859-1\")\n",
    "musicdf = musicdf.drop(columns = 'Unnamed: 0')\n",
    "musicdf.head()"
   ]
  },
  {
   "cell_type": "code",
   "execution_count": 21,
   "metadata": {},
   "outputs": [],
   "source": [
    "musicten = musicdf[musicdf['year'] == 2010]\n",
    "musiceleven = musicdf[musicdf['year'] == 2011]\n",
    "musictwelve = musicdf[musicdf['year'] == 2012]\n",
    "musicthirteen = musicdf[musicdf['year'] == 2013]\n",
    "musicfourteen = musicdf[musicdf['year'] == 2014]\n",
    "musicfifteen = musicdf[musicdf['year'] == 2015]\n",
    "musicsixteen = musicdf[musicdf['year'] == 2016]\n",
    "musicseventeen = musicdf[musicdf['year'] == 2017]\n",
    "musiceighteen = musicdf[musicdf['year'] == 2018]\n",
    "musicnineteen = musicdf[musicdf['year'] == 2019]"
   ]
  },
  {
   "cell_type": "code",
   "execution_count": 75,
   "metadata": {},
   "outputs": [],
   "source": [
    "def countvalue(df, col_name, col_val):\n",
    "    newdf = df[df[col_name] == col_val]\n",
    "    return len(newdf)"
   ]
  },
  {
   "cell_type": "code",
   "execution_count": 79,
   "metadata": {},
   "outputs": [
    {
     "data": {
      "text/plain": [
       "3"
      ]
     },
     "execution_count": 79,
     "metadata": {},
     "output_type": "execute_result"
    }
   ],
   "source": [
    "#calculate the total number of pop songs that were in the top charts in 2010\n",
    "countvalue(musicten, 'top genre', 'pop')"
   ]
  },
  {
   "cell_type": "code",
   "execution_count": 78,
   "metadata": {},
   "outputs": [
    {
     "data": {
      "text/plain": [
       "9"
      ]
     },
     "execution_count": 78,
     "metadata": {},
     "output_type": "execute_result"
    }
   ],
   "source": [
    "#calculate the total number of pop songs that were in the top charts in 2019\n",
    "countvalue(musicnineteen, 'top genre', 'pop')"
   ]
  },
  {
   "cell_type": "code",
   "execution_count": 80,
   "metadata": {},
   "outputs": [
    {
     "data": {
      "text/plain": [
       "0"
      ]
     },
     "execution_count": 80,
     "metadata": {},
     "output_type": "execute_result"
    }
   ],
   "source": [
    "#calculate the total number of songs in 2017 that were 200 seconds long\n",
    "countvalue(musicseventeen, 'dur', 200)"
   ]
  },
  {
   "cell_type": "code",
   "execution_count": 38,
   "metadata": {},
   "outputs": [
    {
     "data": {
      "text/html": [
       "<div>\n",
       "<style scoped>\n",
       "    .dataframe tbody tr th:only-of-type {\n",
       "        vertical-align: middle;\n",
       "    }\n",
       "\n",
       "    .dataframe tbody tr th {\n",
       "        vertical-align: top;\n",
       "    }\n",
       "\n",
       "    .dataframe thead th {\n",
       "        text-align: right;\n",
       "    }\n",
       "</style>\n",
       "<table border=\"1\" class=\"dataframe\">\n",
       "  <thead>\n",
       "    <tr style=\"text-align: right;\">\n",
       "      <th></th>\n",
       "      <th>bpm</th>\n",
       "      <th>nrgy</th>\n",
       "      <th>dnce</th>\n",
       "      <th>dB</th>\n",
       "      <th>live</th>\n",
       "      <th>val</th>\n",
       "      <th>dur</th>\n",
       "      <th>acous</th>\n",
       "      <th>spch</th>\n",
       "      <th>pop</th>\n",
       "    </tr>\n",
       "  </thead>\n",
       "  <tbody>\n",
       "    <tr>\n",
       "      <th>count</th>\n",
       "      <td>51.000000</td>\n",
       "      <td>51.000000</td>\n",
       "      <td>51.000000</td>\n",
       "      <td>51.000000</td>\n",
       "      <td>51.000000</td>\n",
       "      <td>51.000000</td>\n",
       "      <td>51.000000</td>\n",
       "      <td>51.000000</td>\n",
       "      <td>51.000000</td>\n",
       "      <td>51.000000</td>\n",
       "    </tr>\n",
       "    <tr>\n",
       "      <th>mean</th>\n",
       "      <td>122.058824</td>\n",
       "      <td>77.901961</td>\n",
       "      <td>64.529412</td>\n",
       "      <td>-4.901961</td>\n",
       "      <td>21.176471</td>\n",
       "      <td>57.000000</td>\n",
       "      <td>229.803922</td>\n",
       "      <td>11.627451</td>\n",
       "      <td>8.882353</td>\n",
       "      <td>64.254902</td>\n",
       "    </tr>\n",
       "    <tr>\n",
       "      <th>std</th>\n",
       "      <td>25.308032</td>\n",
       "      <td>14.953601</td>\n",
       "      <td>14.412984</td>\n",
       "      <td>1.360219</td>\n",
       "      <td>17.120404</td>\n",
       "      <td>22.001818</td>\n",
       "      <td>33.858541</td>\n",
       "      <td>19.993960</td>\n",
       "      <td>9.322332</td>\n",
       "      <td>13.227007</td>\n",
       "    </tr>\n",
       "    <tr>\n",
       "      <th>min</th>\n",
       "      <td>43.000000</td>\n",
       "      <td>37.000000</td>\n",
       "      <td>23.000000</td>\n",
       "      <td>-8.000000</td>\n",
       "      <td>4.000000</td>\n",
       "      <td>7.000000</td>\n",
       "      <td>172.000000</td>\n",
       "      <td>0.000000</td>\n",
       "      <td>3.000000</td>\n",
       "      <td>0.000000</td>\n",
       "    </tr>\n",
       "    <tr>\n",
       "      <th>25%</th>\n",
       "      <td>111.500000</td>\n",
       "      <td>73.500000</td>\n",
       "      <td>56.500000</td>\n",
       "      <td>-5.500000</td>\n",
       "      <td>9.000000</td>\n",
       "      <td>43.500000</td>\n",
       "      <td>207.500000</td>\n",
       "      <td>1.000000</td>\n",
       "      <td>4.000000</td>\n",
       "      <td>59.000000</td>\n",
       "    </tr>\n",
       "    <tr>\n",
       "      <th>50%</th>\n",
       "      <td>125.000000</td>\n",
       "      <td>82.000000</td>\n",
       "      <td>67.000000</td>\n",
       "      <td>-5.000000</td>\n",
       "      <td>13.000000</td>\n",
       "      <td>61.000000</td>\n",
       "      <td>221.000000</td>\n",
       "      <td>3.000000</td>\n",
       "      <td>5.000000</td>\n",
       "      <td>65.000000</td>\n",
       "    </tr>\n",
       "    <tr>\n",
       "      <th>75%</th>\n",
       "      <td>130.500000</td>\n",
       "      <td>87.000000</td>\n",
       "      <td>75.000000</td>\n",
       "      <td>-4.000000</td>\n",
       "      <td>31.500000</td>\n",
       "      <td>74.000000</td>\n",
       "      <td>252.000000</td>\n",
       "      <td>14.500000</td>\n",
       "      <td>10.000000</td>\n",
       "      <td>73.000000</td>\n",
       "    </tr>\n",
       "    <tr>\n",
       "      <th>max</th>\n",
       "      <td>186.000000</td>\n",
       "      <td>98.000000</td>\n",
       "      <td>83.000000</td>\n",
       "      <td>-2.000000</td>\n",
       "      <td>70.000000</td>\n",
       "      <td>88.000000</td>\n",
       "      <td>329.000000</td>\n",
       "      <td>85.000000</td>\n",
       "      <td>45.000000</td>\n",
       "      <td>83.000000</td>\n",
       "    </tr>\n",
       "  </tbody>\n",
       "</table>\n",
       "</div>"
      ],
      "text/plain": [
       "              bpm       nrgy       dnce         dB       live        val  \\\n",
       "count   51.000000  51.000000  51.000000  51.000000  51.000000  51.000000   \n",
       "mean   122.058824  77.901961  64.529412  -4.901961  21.176471  57.000000   \n",
       "std     25.308032  14.953601  14.412984   1.360219  17.120404  22.001818   \n",
       "min     43.000000  37.000000  23.000000  -8.000000   4.000000   7.000000   \n",
       "25%    111.500000  73.500000  56.500000  -5.500000   9.000000  43.500000   \n",
       "50%    125.000000  82.000000  67.000000  -5.000000  13.000000  61.000000   \n",
       "75%    130.500000  87.000000  75.000000  -4.000000  31.500000  74.000000   \n",
       "max    186.000000  98.000000  83.000000  -2.000000  70.000000  88.000000   \n",
       "\n",
       "              dur      acous       spch        pop  \n",
       "count   51.000000  51.000000  51.000000  51.000000  \n",
       "mean   229.803922  11.627451   8.882353  64.254902  \n",
       "std     33.858541  19.993960   9.322332  13.227007  \n",
       "min    172.000000   0.000000   3.000000   0.000000  \n",
       "25%    207.500000   1.000000   4.000000  59.000000  \n",
       "50%    221.000000   3.000000   5.000000  65.000000  \n",
       "75%    252.000000  14.500000  10.000000  73.000000  \n",
       "max    329.000000  85.000000  45.000000  83.000000  "
      ]
     },
     "execution_count": 38,
     "metadata": {},
     "output_type": "execute_result"
    }
   ],
   "source": [
    "tenstats = musicten.describe()\n",
    "tenstats = tenstats.drop(columns = 'year')\n",
    "tenstats"
   ]
  },
  {
   "cell_type": "code",
   "execution_count": 89,
   "metadata": {},
   "outputs": [],
   "source": [
    "elevenstats = musiceleven.describe()\n",
    "elevenstats = elevenstats.drop(columns = 'year')"
   ]
  },
  {
   "cell_type": "code",
   "execution_count": 88,
   "metadata": {},
   "outputs": [],
   "source": [
    "twelvestats = musictwelve.describe()\n",
    "twelvestats = twelvestats.drop(columns = 'year')"
   ]
  },
  {
   "cell_type": "code",
   "execution_count": 87,
   "metadata": {},
   "outputs": [],
   "source": [
    "thirteenstats = musicthirteen.describe()\n",
    "thirteenstats = thirteenstats.drop(columns = 'year')"
   ]
  },
  {
   "cell_type": "code",
   "execution_count": 86,
   "metadata": {},
   "outputs": [],
   "source": [
    "fourteenstats = musiceleven.describe()\n",
    "fourteenstats = fourteenstats.drop(columns = 'year')"
   ]
  },
  {
   "cell_type": "code",
   "execution_count": 85,
   "metadata": {},
   "outputs": [],
   "source": [
    "fifteenstats = musicfifteen.describe()\n",
    "fifteenstats = fifteenstats.drop(columns = 'year')"
   ]
  },
  {
   "cell_type": "code",
   "execution_count": 84,
   "metadata": {},
   "outputs": [],
   "source": [
    "sixteenstats = musicsixteen.describe()\n",
    "sixteenstats = sixteenstats.drop(columns = 'year')"
   ]
  },
  {
   "cell_type": "code",
   "execution_count": 83,
   "metadata": {},
   "outputs": [],
   "source": [
    "seventeenstats = musicseventeen.describe()\n",
    "seventeenstats = seventeenstats.drop(columns = 'year')"
   ]
  },
  {
   "cell_type": "code",
   "execution_count": 82,
   "metadata": {},
   "outputs": [],
   "source": [
    "eighteenstats = musiceighteen.describe()\n",
    "eighteenstats = eighteenstats.drop(columns = 'year')"
   ]
  },
  {
   "cell_type": "code",
   "execution_count": 81,
   "metadata": {},
   "outputs": [],
   "source": [
    "nineteenstats = musicnineteen.describe()\n",
    "nineteenstats = nineteenstats.drop(columns = 'year')"
   ]
  },
  {
   "cell_type": "code",
   "execution_count": 49,
   "metadata": {},
   "outputs": [
    {
     "data": {
      "text/html": [
       "<div>\n",
       "<style scoped>\n",
       "    .dataframe tbody tr th:only-of-type {\n",
       "        vertical-align: middle;\n",
       "    }\n",
       "\n",
       "    .dataframe tbody tr th {\n",
       "        vertical-align: top;\n",
       "    }\n",
       "\n",
       "    .dataframe thead th {\n",
       "        text-align: right;\n",
       "    }\n",
       "</style>\n",
       "<table border=\"1\" class=\"dataframe\">\n",
       "  <thead>\n",
       "    <tr style=\"text-align: right;\">\n",
       "      <th></th>\n",
       "      <th>bpm</th>\n",
       "      <th>nrgy</th>\n",
       "      <th>dnce</th>\n",
       "      <th>dB</th>\n",
       "      <th>live</th>\n",
       "      <th>val</th>\n",
       "      <th>dur</th>\n",
       "      <th>acous</th>\n",
       "      <th>spch</th>\n",
       "      <th>pop</th>\n",
       "    </tr>\n",
       "  </thead>\n",
       "  <tbody>\n",
       "    <tr>\n",
       "      <th>bpm</th>\n",
       "      <td>1.000000</td>\n",
       "      <td>0.920091</td>\n",
       "      <td>0.975939</td>\n",
       "      <td>-0.613372</td>\n",
       "      <td>0.392366</td>\n",
       "      <td>0.757474</td>\n",
       "      <td>0.986870</td>\n",
       "      <td>0.414910</td>\n",
       "      <td>0.096647</td>\n",
       "      <td>0.966495</td>\n",
       "    </tr>\n",
       "    <tr>\n",
       "      <th>nrgy</th>\n",
       "      <td>0.920091</td>\n",
       "      <td>1.000000</td>\n",
       "      <td>0.962930</td>\n",
       "      <td>-0.400747</td>\n",
       "      <td>0.477502</td>\n",
       "      <td>0.910729</td>\n",
       "      <td>0.914054</td>\n",
       "      <td>0.531021</td>\n",
       "      <td>0.249654</td>\n",
       "      <td>0.895776</td>\n",
       "    </tr>\n",
       "    <tr>\n",
       "      <th>dnce</th>\n",
       "      <td>0.975939</td>\n",
       "      <td>0.962930</td>\n",
       "      <td>1.000000</td>\n",
       "      <td>-0.502527</td>\n",
       "      <td>0.376433</td>\n",
       "      <td>0.795121</td>\n",
       "      <td>0.973981</td>\n",
       "      <td>0.397579</td>\n",
       "      <td>0.139984</td>\n",
       "      <td>0.980138</td>\n",
       "    </tr>\n",
       "    <tr>\n",
       "      <th>dB</th>\n",
       "      <td>-0.613372</td>\n",
       "      <td>-0.400747</td>\n",
       "      <td>-0.502527</td>\n",
       "      <td>1.000000</td>\n",
       "      <td>0.247350</td>\n",
       "      <td>-0.162736</td>\n",
       "      <td>-0.680800</td>\n",
       "      <td>0.187797</td>\n",
       "      <td>0.640941</td>\n",
       "      <td>-0.593316</td>\n",
       "    </tr>\n",
       "    <tr>\n",
       "      <th>live</th>\n",
       "      <td>0.392366</td>\n",
       "      <td>0.477502</td>\n",
       "      <td>0.376433</td>\n",
       "      <td>0.247350</td>\n",
       "      <td>1.000000</td>\n",
       "      <td>0.748787</td>\n",
       "      <td>0.283806</td>\n",
       "      <td>0.982844</td>\n",
       "      <td>0.890684</td>\n",
       "      <td>0.224824</td>\n",
       "    </tr>\n",
       "    <tr>\n",
       "      <th>val</th>\n",
       "      <td>0.757474</td>\n",
       "      <td>0.910729</td>\n",
       "      <td>0.795121</td>\n",
       "      <td>-0.162736</td>\n",
       "      <td>0.748787</td>\n",
       "      <td>1.000000</td>\n",
       "      <td>0.720775</td>\n",
       "      <td>0.807958</td>\n",
       "      <td>0.533836</td>\n",
       "      <td>0.662329</td>\n",
       "    </tr>\n",
       "    <tr>\n",
       "      <th>dur</th>\n",
       "      <td>0.986870</td>\n",
       "      <td>0.914054</td>\n",
       "      <td>0.973981</td>\n",
       "      <td>-0.680800</td>\n",
       "      <td>0.283806</td>\n",
       "      <td>0.720775</td>\n",
       "      <td>1.000000</td>\n",
       "      <td>0.312153</td>\n",
       "      <td>-0.025656</td>\n",
       "      <td>0.979455</td>\n",
       "    </tr>\n",
       "    <tr>\n",
       "      <th>acous</th>\n",
       "      <td>0.414910</td>\n",
       "      <td>0.531021</td>\n",
       "      <td>0.397579</td>\n",
       "      <td>0.187797</td>\n",
       "      <td>0.982844</td>\n",
       "      <td>0.807958</td>\n",
       "      <td>0.312153</td>\n",
       "      <td>1.000000</td>\n",
       "      <td>0.845682</td>\n",
       "      <td>0.231937</td>\n",
       "    </tr>\n",
       "    <tr>\n",
       "      <th>spch</th>\n",
       "      <td>0.096647</td>\n",
       "      <td>0.249654</td>\n",
       "      <td>0.139984</td>\n",
       "      <td>0.640941</td>\n",
       "      <td>0.890684</td>\n",
       "      <td>0.533836</td>\n",
       "      <td>-0.025656</td>\n",
       "      <td>0.845682</td>\n",
       "      <td>1.000000</td>\n",
       "      <td>-0.013957</td>\n",
       "    </tr>\n",
       "    <tr>\n",
       "      <th>pop</th>\n",
       "      <td>0.966495</td>\n",
       "      <td>0.895776</td>\n",
       "      <td>0.980138</td>\n",
       "      <td>-0.593316</td>\n",
       "      <td>0.224824</td>\n",
       "      <td>0.662329</td>\n",
       "      <td>0.979455</td>\n",
       "      <td>0.231937</td>\n",
       "      <td>-0.013957</td>\n",
       "      <td>1.000000</td>\n",
       "    </tr>\n",
       "  </tbody>\n",
       "</table>\n",
       "</div>"
      ],
      "text/plain": [
       "            bpm      nrgy      dnce        dB      live       val       dur  \\\n",
       "bpm    1.000000  0.920091  0.975939 -0.613372  0.392366  0.757474  0.986870   \n",
       "nrgy   0.920091  1.000000  0.962930 -0.400747  0.477502  0.910729  0.914054   \n",
       "dnce   0.975939  0.962930  1.000000 -0.502527  0.376433  0.795121  0.973981   \n",
       "dB    -0.613372 -0.400747 -0.502527  1.000000  0.247350 -0.162736 -0.680800   \n",
       "live   0.392366  0.477502  0.376433  0.247350  1.000000  0.748787  0.283806   \n",
       "val    0.757474  0.910729  0.795121 -0.162736  0.748787  1.000000  0.720775   \n",
       "dur    0.986870  0.914054  0.973981 -0.680800  0.283806  0.720775  1.000000   \n",
       "acous  0.414910  0.531021  0.397579  0.187797  0.982844  0.807958  0.312153   \n",
       "spch   0.096647  0.249654  0.139984  0.640941  0.890684  0.533836 -0.025656   \n",
       "pop    0.966495  0.895776  0.980138 -0.593316  0.224824  0.662329  0.979455   \n",
       "\n",
       "          acous      spch       pop  \n",
       "bpm    0.414910  0.096647  0.966495  \n",
       "nrgy   0.531021  0.249654  0.895776  \n",
       "dnce   0.397579  0.139984  0.980138  \n",
       "dB     0.187797  0.640941 -0.593316  \n",
       "live   0.982844  0.890684  0.224824  \n",
       "val    0.807958  0.533836  0.662329  \n",
       "dur    0.312153 -0.025656  0.979455  \n",
       "acous  1.000000  0.845682  0.231937  \n",
       "spch   0.845682  1.000000 -0.013957  \n",
       "pop    0.231937 -0.013957  1.000000  "
      ]
     },
     "execution_count": 49,
     "metadata": {},
     "output_type": "execute_result"
    }
   ],
   "source": [
    "nineteenstats.corr()"
   ]
  },
  {
   "cell_type": "code",
   "execution_count": 96,
   "metadata": {},
   "outputs": [
    {
     "data": {
      "text/plain": [
       "0.9759387982531719"
      ]
     },
     "execution_count": 96,
     "metadata": {},
     "output_type": "execute_result"
    }
   ],
   "source": [
    "nineteenstats['bpm'].corr(nineteenstats['dnce'])"
   ]
  },
  {
   "cell_type": "code",
   "execution_count": 100,
   "metadata": {},
   "outputs": [
    {
     "data": {
      "text/plain": [
       "-0.8722327640733711"
      ]
     },
     "execution_count": 100,
     "metadata": {},
     "output_type": "execute_result"
    }
   ],
   "source": [
    "musicnineteen.mean()['dB'] - musicten.mean()['dB']"
   ]
  },
  {
   "cell_type": "code",
   "execution_count": 101,
   "metadata": {},
   "outputs": [],
   "source": [
    "def calculatecorr (df, col_name1, col_name2):\n",
    "    corrval = df[col_name1].corr(df[col_name2])\n",
    "    return corrval"
   ]
  },
  {
   "cell_type": "code",
   "execution_count": 103,
   "metadata": {},
   "outputs": [
    {
     "data": {
      "text/plain": [
       "0.03346927667410302"
      ]
     },
     "execution_count": 103,
     "metadata": {},
     "output_type": "execute_result"
    }
   ],
   "source": [
    "calculatecorr(tenstats, 'dB', 'val')"
   ]
  },
  {
   "cell_type": "code",
   "execution_count": 104,
   "metadata": {},
   "outputs": [],
   "source": [
    "def differenceinmean(df1, df2, col_name):\n",
    "    difference = df1.mean()[col_name] - df2.mean()[col_name]\n",
    "    return difference"
   ]
  },
  {
   "cell_type": "code",
   "execution_count": 105,
   "metadata": {},
   "outputs": [
    {
     "data": {
      "text/plain": [
       "8.073079989370171"
      ]
     },
     "execution_count": 105,
     "metadata": {},
     "output_type": "execute_result"
    }
   ],
   "source": [
    "differenceinmean(musiceleven, musicthirteen, 'dur')"
   ]
  },
  {
   "cell_type": "code",
   "execution_count": null,
   "metadata": {},
   "outputs": [],
   "source": []
  }
 ],
 "metadata": {
  "kernelspec": {
   "display_name": "Python 3",
   "language": "python",
   "name": "python3"
  },
  "language_info": {
   "codemirror_mode": {
    "name": "ipython",
    "version": 3
   },
   "file_extension": ".py",
   "mimetype": "text/x-python",
   "name": "python",
   "nbconvert_exporter": "python",
   "pygments_lexer": "ipython3",
   "version": "3.7.1"
  }
 },
 "nbformat": 4,
 "nbformat_minor": 2
}
